{
 "cells": [
  {
   "cell_type": "markdown",
   "id": "bd2328d8",
   "metadata": {},
   "source": [
    "### **Import libraries**"
   ]
  },
  {
   "cell_type": "code",
   "execution_count": 1,
   "id": "36f825a1",
   "metadata": {},
   "outputs": [],
   "source": [
    "import json\n",
    "import numpy as np\n",
    "import pandas as pd\n",
    "import matplotlib.pyplot as plt"
   ]
  },
  {
   "cell_type": "markdown",
   "id": "036ccd5e",
   "metadata": {},
   "source": [
    "### **Preprocess results**"
   ]
  },
  {
   "cell_type": "code",
   "execution_count": null,
   "id": "9b899adb",
   "metadata": {},
   "outputs": [
    {
     "data": {
      "text/html": [
       "<div>\n",
       "<style scoped>\n",
       "    .dataframe tbody tr th:only-of-type {\n",
       "        vertical-align: middle;\n",
       "    }\n",
       "\n",
       "    .dataframe tbody tr th {\n",
       "        vertical-align: top;\n",
       "    }\n",
       "\n",
       "    .dataframe thead th {\n",
       "        text-align: right;\n",
       "    }\n",
       "</style>\n",
       "<table border=\"1\" class=\"dataframe\">\n",
       "  <thead>\n",
       "    <tr style=\"text-align: right;\">\n",
       "      <th></th>\n",
       "      <th>question</th>\n",
       "      <th>answer</th>\n",
       "      <th>question_type</th>\n",
       "      <th>contextual_precision_score</th>\n",
       "      <th>contextual_precision_reason</th>\n",
       "      <th>contextual_recall_score</th>\n",
       "      <th>contextual_recall_reason</th>\n",
       "      <th>faithfulness_score</th>\n",
       "      <th>faithfulness_reason</th>\n",
       "      <th>answer_relevancy_score</th>\n",
       "      <th>answer_relevancy_reason</th>\n",
       "    </tr>\n",
       "  </thead>\n",
       "  <tbody>\n",
       "    <tr>\n",
       "      <th>0</th>\n",
       "      <td>Việc truy xuất kiến thức liên quan đến truy vấ...</td>\n",
       "      <td>Việc truy xuất kiến thức liên quan đến truy vấ...</td>\n",
       "      <td>inferential</td>\n",
       "      <td>1.0000</td>\n",
       "      <td>The score is 1.00 because all the relevant nod...</td>\n",
       "      <td>1.0</td>\n",
       "      <td>The score is 1.00 because the 1st node in retr...</td>\n",
       "      <td>1.0</td>\n",
       "      <td>The score is 1.00 because the actual output al...</td>\n",
       "      <td>1.0</td>\n",
       "      <td>The score is 1.00 because there are no irrelev...</td>\n",
       "    </tr>\n",
       "    <tr>\n",
       "      <th>1</th>\n",
       "      <td>Điều gì xảy ra khi ChatGPT được cung cấp thông...</td>\n",
       "      <td>Khi ChatGPT được cung cấp thông tin chính thức...</td>\n",
       "      <td>analytical</td>\n",
       "      <td>0.8875</td>\n",
       "      <td>The score is 0.89 because the third node in th...</td>\n",
       "      <td>1.0</td>\n",
       "      <td>The score is 1.00 because the node(s) in retri...</td>\n",
       "      <td>1.0</td>\n",
       "      <td>The score is 1.00 because the actual output al...</td>\n",
       "      <td>1.0</td>\n",
       "      <td>The score is 1.00 because there are no irrelev...</td>\n",
       "    </tr>\n",
       "    <tr>\n",
       "      <th>2</th>\n",
       "      <td>Tại sao hiện tượng ảo giác (hallucination) tro...</td>\n",
       "      <td>Hiện tượng ảo giác trong các LLM đáng lo ngại ...</td>\n",
       "      <td>factual</td>\n",
       "      <td>1.0000</td>\n",
       "      <td>The score is 1.00 because all the relevant nod...</td>\n",
       "      <td>1.0</td>\n",
       "      <td>The score is 1.00 because the first sentence i...</td>\n",
       "      <td>1.0</td>\n",
       "      <td>The faithfulness score is 1.00 because there w...</td>\n",
       "      <td>1.0</td>\n",
       "      <td>The score is 1.00 because the response perfect...</td>\n",
       "    </tr>\n",
       "  </tbody>\n",
       "</table>\n",
       "</div>"
      ],
      "text/plain": [
       "                                            question  \\\n",
       "0  Việc truy xuất kiến thức liên quan đến truy vấ...   \n",
       "1  Điều gì xảy ra khi ChatGPT được cung cấp thông...   \n",
       "2  Tại sao hiện tượng ảo giác (hallucination) tro...   \n",
       "\n",
       "                                              answer question_type  \\\n",
       "0  Việc truy xuất kiến thức liên quan đến truy vấ...   inferential   \n",
       "1  Khi ChatGPT được cung cấp thông tin chính thức...    analytical   \n",
       "2  Hiện tượng ảo giác trong các LLM đáng lo ngại ...       factual   \n",
       "\n",
       "   contextual_precision_score  \\\n",
       "0                      1.0000   \n",
       "1                      0.8875   \n",
       "2                      1.0000   \n",
       "\n",
       "                         contextual_precision_reason  contextual_recall_score  \\\n",
       "0  The score is 1.00 because all the relevant nod...                      1.0   \n",
       "1  The score is 0.89 because the third node in th...                      1.0   \n",
       "2  The score is 1.00 because all the relevant nod...                      1.0   \n",
       "\n",
       "                            contextual_recall_reason  faithfulness_score  \\\n",
       "0  The score is 1.00 because the 1st node in retr...                 1.0   \n",
       "1  The score is 1.00 because the node(s) in retri...                 1.0   \n",
       "2  The score is 1.00 because the first sentence i...                 1.0   \n",
       "\n",
       "                                 faithfulness_reason  answer_relevancy_score  \\\n",
       "0  The score is 1.00 because the actual output al...                     1.0   \n",
       "1  The score is 1.00 because the actual output al...                     1.0   \n",
       "2  The faithfulness score is 1.00 because there w...                     1.0   \n",
       "\n",
       "                             answer_relevancy_reason  \n",
       "0  The score is 1.00 because there are no irrelev...  \n",
       "1  The score is 1.00 because there are no irrelev...  \n",
       "2  The score is 1.00 because the response perfect...  "
      ]
     },
     "execution_count": 2,
     "metadata": {},
     "output_type": "execute_result"
    }
   ],
   "source": [
    "with open(file=\"../.deepeval/.deepeval-cache.json\", mode=\"r\", encoding=\"utf-8\") as file:\n",
    "  eval_results = json.load(file)\n",
    "\n",
    "with open(file=\"../data/qa/qa_dataset.json\", mode=\"r\", encoding=\"utf-8\") as file:\n",
    "  qa_dataset = json.load(file)\n",
    "\n",
    "dict_data_list = []\n",
    "for key, val in eval_results[\"test_cases_lookup_map\"].items():\n",
    "  dict_data = dict()\n",
    "\n",
    "  key_dict = json.loads(key)\n",
    "  dict_data[\"user_input\"] = key_dict[\"input\"]\n",
    "\n",
    "  metric_name_mapping = {\n",
    "    0: \"contextual_precision\",\n",
    "    1: \"contextual_recall\",\n",
    "    2: \"faithfulness\",\n",
    "    3: \"answer_relevancy\"\n",
    "  }\n",
    "  for i, data in enumerate(val[\"cached_metrics_data\"]):\n",
    "    dict_data[f\"{metric_name_mapping[i]}_score\"] = data[\"metric_data\"][\"score\"]\n",
    "    dict_data[f\"{metric_name_mapping[i]}_reason\"] = data[\"metric_data\"][\"reason\"]\n",
    "  \n",
    "  dict_data_list.append(dict_data)\n",
    "\n",
    "eval_result_df = pd.DataFrame(data=dict_data_list)\n",
    "qa_dataset_df = pd.DataFrame(data=qa_dataset)\n",
    "df = qa_dataset_df.merge(right=eval_result_df, how=\"inner\", left_on=\"question\", right_on=\"user_input\")\n",
    "df = df.drop(columns=\"user_input\")\n",
    "df.to_csv(\"../data/results/result.csv\", index=False)\n",
    "df.head(n=3)"
   ]
  },
  {
   "cell_type": "markdown",
   "id": "2e359733",
   "metadata": {},
   "source": [
    "### **Analyze results**"
   ]
  },
  {
   "cell_type": "code",
   "execution_count": 3,
   "id": "5befdbfc",
   "metadata": {},
   "outputs": [],
   "source": [
    "eval_df = pd.read_csv(\"../data/results/result.csv\")"
   ]
  },
  {
   "cell_type": "code",
   "execution_count": 4,
   "id": "accd9411",
   "metadata": {},
   "outputs": [],
   "source": [
    "title_mapping = {\n",
    "  0: \"Contextual Precision\",\n",
    "  1: \"Contextual Recall\",\n",
    "  2: \"Faithfulness\",\n",
    "  3: \"Answer Relevancy\"\n",
    "}\n",
    "\n",
    "metric_name_mapping = {\n",
    "  0: \"contextual_precision\",\n",
    "  1: \"contextual_recall\",\n",
    "  2: \"faithfulness\",\n",
    "  3: \"answer_relevancy\"\n",
    "}"
   ]
  },
  {
   "cell_type": "code",
   "execution_count": 5,
   "id": "916d2f1c",
   "metadata": {},
   "outputs": [
    {
     "data": {
      "image/png": "[encoded data removed]",
      "text/plain": [
       "<Figure size 1000x500 with 1 Axes>"
      ]
     },
     "metadata": {},
     "output_type": "display_data"
    }
   ],
   "source": [
    "# Calculate average scores for the evaluated model\n",
    "eval_means = []\n",
    "\n",
    "for i in range(4):\n",
    "  metric = metric_name_mapping[i] + \"_score\"\n",
    "  eval_mean = round(eval_df[metric].mean(), 2)\n",
    "  eval_means.append(eval_mean)\n",
    "\n",
    "# Plotting\n",
    "x_labels = [title_mapping[i] for i in range(4)]\n",
    "x = np.arange(len(x_labels))  # label locations\n",
    "width = 0.5  # full-width bars since we only show one model\n",
    "\n",
    "plt.figure(figsize=(10, 5))\n",
    "bars = plt.bar(x, eval_means, width, label='Evaluated Model', color='skyblue')\n",
    "\n",
    "# Labels and titles\n",
    "plt.xlabel(\"Metric\")\n",
    "plt.ylabel(\"Average Score\")\n",
    "plt.title(\"Average Metric Scores for Evaluated Model\")\n",
    "plt.xticks(x, x_labels)\n",
    "plt.ylim(0, 1.1)\n",
    "plt.legend()\n",
    "\n",
    "# Annotate bars\n",
    "for bar in bars:\n",
    "  height = bar.get_height()\n",
    "  plt.text(\n",
    "    bar.get_x() + bar.get_width() / 2,\n",
    "    height + 0.01,\n",
    "    f\"{height:.2f}\",\n",
    "    ha='center', va='bottom', fontsize=9\n",
    "  )\n",
    "\n",
    "plt.tight_layout()\n",
    "plt.show()"
   ]
  }
 ],
 "metadata": {
  "kernelspec": {
   "display_name": "venv",
   "language": "python",
   "name": "python3"
  },
  "language_info": {
   "codemirror_mode": {
    "name": "ipython",
    "version": 3
   },
   "file_extension": ".py",
   "mimetype": "text/x-python",
   "name": "python",
   "nbconvert_exporter": "python",
   "pygments_lexer": "ipython3",
   "version": "3.12.10"
  }
 },
 "nbformat": 4,
 "nbformat_minor": 5
}
